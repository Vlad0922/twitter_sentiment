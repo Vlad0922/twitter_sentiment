{
 "cells": [
  {
   "cell_type": "code",
   "execution_count": 1,
   "metadata": {
    "collapsed": true
   },
   "outputs": [],
   "source": [
    "import pickle\n",
    "import datetime\n",
    "import time\n",
    "\n",
    "import pandas as pd\n",
    "import numpy as np\n",
    "\n",
    "import scipy\n",
    "\n",
    "import tweepy\n",
    "\n",
    "from nltk.tokenize.casual import TweetTokenizer\n",
    "\n",
    "from sklearn.feature_extraction.text import TfidfVectorizer\n",
    "from sklearn.linear_model import SGDClassifier\n",
    "from sklearn.preprocessing import OneHotEncoder\n",
    "\n",
    "import matplotlib.pyplot as plt\n",
    "import seaborn as sns\n",
    "%matplotlib inline"
   ]
  },
  {
   "cell_type": "code",
   "execution_count": 2,
   "metadata": {
    "collapsed": false
   },
   "outputs": [],
   "source": [
    "tknzr = TweetTokenizer()\n",
    "def tweet_tokenize(msg):\n",
    "    return tknzr.tokenize(msg)\n",
    "\n",
    "def remove_retweet(msg):\n",
    "    return ' '.join(filter(lambda x:x[0]!='@' and not x.startswith('http'), msg.split()))\n",
    "\n",
    "def convert_date(timestamp):\n",
    "    if type(timestamp) is datetime.datetime:\n",
    "        date = timestamp\n",
    "    elif type(timestamp) is str:\n",
    "        #2016-07-23 15:10:14\n",
    "        date = datetime.datetime.strptime(timestamp, \"%Y-%m-%d %H:%M:%S\")\n",
    "    else:\n",
    "        date = datetime.datetime.fromtimestamp(timestamp)\n",
    "\n",
    "    h = date.hour\n",
    "    \n",
    "    if h >= 23 or h <= 5:\n",
    "        d_type = 0 #Night\n",
    "    elif h > 5 and h <= 11:\n",
    "        d_type = 1 #Morning\n",
    "    elif h > 11 and h <= 18:\n",
    "        d_type = 2 #Midday\n",
    "    else:\n",
    "        d_type = 3 #Evening\n",
    "    \n",
    "    return pd.Series({'Weekday':date.weekday(), 'DayPart': d_type})\n",
    "\n",
    "def preprocess_tweet(text, date):\n",
    "        text = vectorizer.transform([remove_retweet(text)])\n",
    "        date = enc.transform([convert_date(date)])\n",
    "\n",
    "        return scipy.sparse.hstack([text, date])\n",
    "    \n",
    "def rename_type(num):\n",
    "    if num == -1:\n",
    "        return 'neg'\n",
    "    elif num == 1:\n",
    "        return 'pos'"
   ]
  },
  {
   "cell_type": "code",
   "execution_count": 3,
   "metadata": {
    "collapsed": true
   },
   "outputs": [],
   "source": [
    "def color_types(ttype):\n",
    "    color = 'red' if ttype == 'neg' else 'green'\n",
    "    return 'color: %s' % color"
   ]
  },
  {
   "cell_type": "code",
   "execution_count": 4,
   "metadata": {
    "collapsed": false
   },
   "outputs": [],
   "source": [
    "with open('models/model_sgd.pkl', 'rb') as f:\n",
    "    model = pickle.load(f)\n",
    "\n",
    "with open('models/vectrorizer.pkl', 'rb') as f:\n",
    "    vectorizer = pickle.load(f)\n",
    "\n",
    "with open('models/one_hot.pkl', 'rb') as f:\n",
    "    enc = pickle.load(f)"
   ]
  },
  {
   "cell_type": "code",
   "execution_count": 5,
   "metadata": {
    "collapsed": true
   },
   "outputs": [],
   "source": [
    "SENTIMENT_THRESHOLD = 0.7\n",
    "def predict_sentiment(model, X):\n",
    "    res = list()\n",
    "    \n",
    "    probs = model.predict_proba(X)\n",
    "    \n",
    "    for i in range(len(probs)):\n",
    "        p = probs[i]\n",
    "        if p[0] >= SENTIMENT_THRESHOLD:\n",
    "            res.append('neg')\n",
    "        elif p[1] >= SENTIMENT_THRESHOLD:\n",
    "            res.append('pos')\n",
    "        else:\n",
    "            res.append('neutral')\n",
    "    \n",
    "    return res"
   ]
  },
  {
   "cell_type": "code",
   "execution_count": 6,
   "metadata": {
    "collapsed": true
   },
   "outputs": [],
   "source": [
    "def plot_count(universities):\n",
    "    for u in universities:\n",
    "        X = pd.read_csv('data/old_tweets/' + u + '.csv', sep = ';', names = ['Date', 'Text'])\n",
    "        X = X.drop_duplicates(subset=['Text'])\n",
    "        \n",
    "        date_col = enc.transform(X['Date'].apply(convert_date))\n",
    "        tweets = vectorizer.transform(X['Text'])\n",
    "        \n",
    "        X_tweets = scipy.sparse.hstack([tweets, date_col])\n",
    "        \n",
    "#         X['Type'] = model.predict(X_tweets)\n",
    "#         X['Type'] = X['Type'].apply(rename_type)\n",
    "        X['Type'] = predict_sentiment(model, X_tweets)\n",
    "        \n",
    "        plt.figure()\n",
    "\n",
    "        sns.countplot(x='Type', data=X)\n",
    "        plt.title(u)"
   ]
  },
  {
   "cell_type": "code",
   "execution_count": 7,
   "metadata": {
    "collapsed": false
   },
   "outputs": [
    {
     "data": {
      "image/png": "[encoded data removed]",
      "text/plain": [
       "<matplotlib.figure.Figure at 0x7fd2f3470810>"
      ]
     },
     "metadata": {},
     "output_type": "display_data"
    },
    {
     "data": {
      "image/png": "[encoded data removed]",
      "text/plain": [
       "<matplotlib.figure.Figure at 0x7fd2f4533390>"
      ]
     },
     "metadata": {},
     "output_type": "display_data"
    },
    {
     "data": {
      "image/png": "[encoded data removed]",
      "text/plain": [
       "<matplotlib.figure.Figure at 0x7fd2ecfde2d0>"
      ]
     },
     "metadata": {},
     "output_type": "display_data"
    },
    {
     "data": {
      "image/png": "[encoded data removed]",
      "text/plain": [
       "<matplotlib.figure.Figure at 0x7fd2ea7bc410>"
      ]
     },
     "metadata": {},
     "output_type": "display_data"
    }
   ],
   "source": [
    "plot_count(['MIPT', 'MSU',  'SPBU', 'ITMO'])"
   ]
  },
  {
   "cell_type": "code",
   "execution_count": null,
   "metadata": {
    "collapsed": true
   },
   "outputs": [],
   "source": []
  },
  {
   "cell_type": "code",
   "execution_count": 3,
   "metadata": {
    "collapsed": false
   },
   "outputs": [
    {
     "data": {
      "text/plain": [
       "\"insert into tweets values('abc', '512512', '515', '51251', 1)\""
      ]
     },
     "execution_count": 3,
     "metadata": {},
     "output_type": "execute_result"
    }
   ],
   "source": [
    "'insert into tweets values(\\'%s\\', \\'%s\\', \\'%s\\', \\'%s\\', %d)'  % ('abc', str(512512), '515', str(51251), 1)"
   ]
  },
  {
   "cell_type": "code",
   "execution_count": null,
   "metadata": {
    "collapsed": true
   },
   "outputs": [],
   "source": []
  }
 ],
 "metadata": {
  "kernelspec": {
   "display_name": "Python 2",
   "language": "python",
   "name": "python2"
  },
  "language_info": {
   "codemirror_mode": {
    "name": "ipython",
    "version": 2
   },
   "file_extension": ".py",
   "mimetype": "text/x-python",
   "name": "python",
   "nbconvert_exporter": "python",
   "pygments_lexer": "ipython2",
   "version": "2.7.12"
  },
  "widgets": {
   "state": {},
   "version": "1.1.2"
  }
 },
 "nbformat": 4,
 "nbformat_minor": 0
}
