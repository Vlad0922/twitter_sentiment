{
 "cells": [
  {
   "cell_type": "code",
   "execution_count": 25,
   "metadata": {
    "collapsed": true
   },
   "outputs": [],
   "source": [
    "import pickle\n",
    "import datetime\n",
    "import time\n",
    "\n",
    "import pandas as pd\n",
    "import numpy as np\n",
    "\n",
    "import scipy\n",
    "\n",
    "import tweepy\n",
    "\n",
    "from nltk.tokenize.casual import TweetTokenizer\n",
    "\n",
    "from sklearn.feature_extraction.text import TfidfVectorizer\n",
    "from sklearn.linear_model import SGDClassifier\n",
    "from sklearn.preprocessing import OneHotEncoder\n",
    "\n",
    "import matplotlib.pyplot as plt\n",
    "import seaborn as sns\n",
    "%matplotlib inline"
   ]
  },
  {
   "cell_type": "code",
   "execution_count": 27,
   "metadata": {
    "collapsed": true
   },
   "outputs": [],
   "source": [
    "tknzr = TweetTokenizer()\n",
    "def tweet_tokenize(msg):\n",
    "    return tknzr.tokenize(msg)\n",
    "\n",
    "def remove_retweet(msg):\n",
    "    return ' '.join(filter(lambda x:x[0]!='@' and not x.startswith('http'), msg.split()))\n",
    "\n",
    "def convert_date(timestamp):\n",
    "    if type(timestamp) is datetime.datetime:\n",
    "        date = timestamp    \n",
    "    else:\n",
    "        date = datetime.datetime.fromtimestamp(timestamp)\n",
    "\n",
    "    h = date.hour\n",
    "    \n",
    "    if h >= 23 or h <= 5:\n",
    "        d_type = 0 #Night\n",
    "    elif h > 5 and h <= 11:\n",
    "        d_type = 1 #Morning\n",
    "    elif h > 11 and h <= 18:\n",
    "        d_type = 2 #Midday\n",
    "    else:\n",
    "        d_type = 3 #Evening\n",
    "    \n",
    "    return pd.Series({'Weekday':date.weekday(), 'DayPart': d_type})\n",
    "\n",
    "def convert_date(timestamp):\n",
    "    if type(timestamp) is datetime.datetime:\n",
    "        date = timestamp\n",
    "    elif type(timestamp) is str:\n",
    "        #2016-07-23 15:10:14\n",
    "        date = datetime.datetime.strptime(timestamp, \"%Y-%m-%d %H:%M:%S\")\n",
    "    else:\n",
    "        date = datetime.datetime.fromtimestamp(timestamp)\n",
    "\n",
    "    h = date.hour\n",
    "    \n",
    "    if h >= 23 or h <= 5:\n",
    "        d_type = 0 #Night\n",
    "    elif h > 5 and h <= 11:\n",
    "        d_type = 1 #Morning\n",
    "    elif h > 11 and h <= 18:\n",
    "        d_type = 2 #Midday\n",
    "    else:\n",
    "        d_type = 3 #Evening\n",
    "    \n",
    "    return pd.Series({'Weekday':date.weekday(), 'DayPart': d_type})\n",
    "\n",
    "def preprocess_tweet(text, date):\n",
    "        text = vectorizer.transform([remove_retweet(text)])\n",
    "        date = enc.transform([convert_date(date)])\n",
    "\n",
    "        return scipy.sparse.hstack([text, date])\n",
    "    \n",
    "def rename_type(num):\n",
    "    if num == -1:\n",
    "        return 'neg'\n",
    "    else:\n",
    "        return 'pos'"
   ]
  },
  {
   "cell_type": "code",
   "execution_count": 4,
   "metadata": {
    "collapsed": false
   },
   "outputs": [],
   "source": [
    "with open('models/model_sgd.pkl', 'rb') as f:\n",
    "    model = pickle.load(f)\n",
    "\n",
    "with open('models/vectrorizer.pkl', 'rb') as f:\n",
    "    vectorizer = pickle.load(f)\n",
    "\n",
    "with open('models/one_hot.pkl', 'rb') as f:\n",
    "    enc = pickle.load(f)"
   ]
  },
  {
   "cell_type": "code",
   "execution_count": 5,
   "metadata": {
    "collapsed": true
   },
   "outputs": [],
   "source": [
    "X = pd.read_csv('data/old_tweets/MIPT.csv', sep = ';', names = ['Date', 'Text'])"
   ]
  },
  {
   "cell_type": "code",
   "execution_count": 21,
   "metadata": {
    "collapsed": false
   },
   "outputs": [],
   "source": [
    "date_col = enc.transform(X['Date'].apply(convert_date))\n",
    "tweets = vectorizer.transform(X['Text'])\n",
    "X_tweets = scipy.sparse.hstack([tweets, date_col])"
   ]
  },
  {
   "cell_type": "code",
   "execution_count": 28,
   "metadata": {
    "collapsed": false
   },
   "outputs": [],
   "source": [
    "X['Type'] = model.predict(X_tweets)\n",
    "X['Type'] = X['Type'].apply(rename_type)"
   ]
  },
  {
   "cell_type": "code",
   "execution_count": 29,
   "metadata": {
    "collapsed": false
   },
   "outputs": [
    {
     "data": {
      "text/plain": [
       "<matplotlib.axes._subplots.AxesSubplot at 0x7f22787e6110>"
      ]
     },
     "execution_count": 29,
     "metadata": {},
     "output_type": "execute_result"
    },
    {
     "data": {
      "image/png": "[encoded data removed]",
      "text/plain": [
       "<matplotlib.figure.Figure at 0x7f22787f1310>"
      ]
     },
     "metadata": {},
     "output_type": "display_data"
    }
   ],
   "source": [
    "sns.countplot(x='Type', data=X)"
   ]
  },
  {
   "cell_type": "code",
   "execution_count": null,
   "metadata": {
    "collapsed": true
   },
   "outputs": [],
   "source": []
  }
 ],
 "metadata": {
  "kernelspec": {
   "display_name": "Python 2",
   "language": "python",
   "name": "python2"
  },
  "language_info": {
   "codemirror_mode": {
    "name": "ipython",
    "version": 2
   },
   "file_extension": ".py",
   "mimetype": "text/x-python",
   "name": "python",
   "nbconvert_exporter": "python",
   "pygments_lexer": "ipython2",
   "version": "2.7.12"
  },
  "widgets": {
   "state": {},
   "version": "1.1.2"
  }
 },
 "nbformat": 4,
 "nbformat_minor": 0
}
