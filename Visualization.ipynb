{
 "cells": [
  {
   "cell_type": "code",
   "execution_count": 17,
   "metadata": {
    "collapsed": true
   },
   "outputs": [],
   "source": [
    "import pandas as pd\n",
    "\n",
    "import datetime\n",
    "\n",
    "import matplotlib.pyplot as plt\n",
    "import seaborn as sns\n",
    "import matplotlib.dates as mdates\n",
    "from matplotlib.dates import date2num\n",
    "%matplotlib inline\n",
    "\n",
    "import gmaps\n",
    "import gmaps.datasets"
   ]
  },
  {
   "cell_type": "code",
   "execution_count": 18,
   "metadata": {
    "collapsed": true
   },
   "outputs": [],
   "source": [
    "def date_distribution(X, date_from, date_to, step = 'day', day_count = 1, by_blocks = False):\n",
    "    neg = X[X['ttype'] == NEG_TWEET]\n",
    "    pos = X[X['ttype'] == POS_TWEET]\n",
    "    \n",
    "    neg_date = neg[neg['tdate'] < date_to]\n",
    "    pos_date = pos[pos['tdate'] < date_to]\n",
    "    \n",
    "    if step == 'minute':\n",
    "        step = 60\n",
    "    elif step == 'hour':\n",
    "        step = 60*60\n",
    "    elif step == 'day':\n",
    "        step = 60*60*24*day_count\n",
    "    elif step == 'week':\n",
    "        step = 60*60*24*7\n",
    "    \n",
    "    pos_count = list()\n",
    "    neg_count = list()\n",
    "    \n",
    "    dates_in_range = range(date_from, date_to, step)\n",
    "    \n",
    "    for date in dates_in_range:\n",
    "        if by_blocks:\n",
    "            pos_count.append(pos_date[(pos_date['tdate'] > date) & (pos_date['tdate'] < (date + step))].shape[0])\n",
    "            neg_count.append(neg_date[(neg_date['tdate'] > date) & (neg_date['tdate'] < (date + step))].shape[0])\n",
    "        else:\n",
    "            pos_count.append(pos_date[pos_date['tdate'] < date].shape[0])\n",
    "            neg_count.append(neg_date[neg_date['tdate'] < date].shape[0])\n",
    "            \n",
    "    \n",
    "    dates_in_range = [datetime.datetime.fromtimestamp(d) for d in dates_in_range]\n",
    "    return pos_count, neg_count, dates_in_range\n",
    "    \n",
    "def split_points(pnt):\n",
    "    return tuple(map(float, pnt.split(','))) "
   ]
  },
  {
   "cell_type": "code",
   "execution_count": 21,
   "metadata": {
    "collapsed": true
   },
   "outputs": [],
   "source": [
    "with open('maps_token.txt') as f:\n",
    "    key = f.read()\n",
    "    gmaps.configure(api_key=key)\n",
    "    \n",
    "NEG_TWEET = -1\n",
    "POS_TWEET = 1\n",
    "\n",
    "FIG_SIZE = (15, 6)"
   ]
  },
  {
   "cell_type": "markdown",
   "metadata": {},
   "source": [
    "## Визуализация тренировочных твитов\n",
    "Визуализируются следующие параметры:\n",
    "* Сколько всего негативных и позитивных твитов от даты А до даты Б\n",
    "* Сколько было позитивных/негативных твитов от даты А до даты Б по \"блокам\" (например, недели)\n",
    "\n",
    "Даты в исходном датасете распределены неравномерно."
   ]
  },
  {
   "cell_type": "code",
   "execution_count": 22,
   "metadata": {
    "collapsed": false
   },
   "outputs": [],
   "source": [
    "neg = pd.read_csv('data/train/negative.csv', sep=';')\n",
    "pos = pd.read_csv('data/train/positive.csv', sep=';')\n",
    "\n",
    "neg = neg.drop(['id', 'trep', 'tmane', 'trtw', 'tfav',\n",
    "       'tstcount', 'tfrien', 'listcount', 'Unnamed: 11', 'Unnamed: 12',\n",
    "       'Unnamed: 13', 'Unnamed: 14', 'Unnamed: 15', 'Unnamed: 16',\n",
    "       'Unnamed: 17', 'Unnamed: 18', 'Unnamed: 19', 'Unnamed: 20',\n",
    "       'Unnamed: 21', 'Unnamed: 22'], axis=1)\n",
    "\n",
    "pos = pos.drop(['id', 'trep', 'tmane', 'trtw', 'tfav',\n",
    "       'tstcount', 'tfrien', 'listcount', 'Unnamed: 11', 'Unnamed: 12',\n",
    "       'Unnamed: 13', 'Unnamed: 14', 'Unnamed: 15', 'Unnamed: 16',\n",
    "       'Unnamed: 17', 'Unnamed: 18', 'Unnamed: 19', 'Unnamed: 20',\n",
    "       'Unnamed: 21', 'Unnamed: 22'], axis=1)\n",
    "\n",
    "\n",
    "X = pd.concat([pos, neg], ignore_index=True)"
   ]
  },
  {
   "cell_type": "code",
   "execution_count": 23,
   "metadata": {
    "collapsed": false
   },
   "outputs": [
    {
     "data": {
      "text/plain": [
       "(735206.0, 735260.0, 0.0, 120000.0)"
      ]
     },
     "execution_count": 23,
     "metadata": {},
     "output_type": "execute_result"
    },
    {
     "data": {
      "image/png": "[encoded data removed]",
      "text/plain": [
       "<matplotlib.figure.Figure at 0x7f0b36c5ae10>"
      ]
     },
     "metadata": {},
     "output_type": "display_data"
    }
   ],
   "source": [
    "pos_count, neg_count, dates = date_distribution(X, X['tdate'].min(), X['tdate'].max(),\n",
    "                                                step = 'week', by_blocks = True)\n",
    "dates = date2num(dates)\n",
    "\n",
    "fig, ax = plt.subplots()\n",
    "fig.set_size_inches(FIG_SIZE)\n",
    "\n",
    "plt.tight_layout()\n",
    "\n",
    "w = 2.\n",
    "ax.bar(dates - w/2, pos_count, width=2, color = 'green', label = 'pos')\n",
    "ax.bar(dates + w/2 , neg_count, width=2, color = 'red', label = 'neg')\n",
    "\n",
    "ax.xaxis_date()\n",
    "\n",
    "plt.gcf().autofmt_xdate()\n",
    "plt.legend(bbox_to_anchor=(1.01, 1), loc=2, borderaxespad = 0., fontsize=14)\n",
    "\n",
    "#немного костылей\n",
    "x0, x1, y0, y1 = plt.axis()\n",
    "plt.axis((x0 + w*3, x1, y0, y1))\n",
    "\n",
    "#ax.autoscale_view(False, True)"
   ]
  },
  {
   "cell_type": "code",
   "execution_count": 24,
   "metadata": {
    "collapsed": false
   },
   "outputs": [
    {
     "data": {
      "image/png": "[encoded data removed]",
      "text/plain": [
       "<matplotlib.figure.Figure at 0x7f0b30fd2110>"
      ]
     },
     "metadata": {},
     "output_type": "display_data"
    }
   ],
   "source": [
    "pos_count, neg_count, dates = date_distribution(X, X['tdate'].min(), X['tdate'].max(), step = 'day')\n",
    "dates = date2num(dates)\n",
    "\n",
    "fig, ax = plt.subplots()\n",
    "fig.set_size_inches(FIG_SIZE)\n",
    "\n",
    "plt.plot(dates, pos_count, color = 'green', label = 'pos')\n",
    "plt.plot(dates, neg_count, color = 'red', label = 'neg')\n",
    "\n",
    "ax.xaxis_date()\n",
    "plt.gcf().autofmt_xdate()\n",
    "plt.legend(bbox_to_anchor=(1.01, 1), loc=2, borderaxespad = 0., fontsize=14)\n",
    "\n",
    "ax.autoscale_view(False, True)"
   ]
  },
  {
   "cell_type": "markdown",
   "metadata": {},
   "source": [
    "## Визуализация твитов по ВУЗ'ам\n",
    "Heatmap твитов, процент твитов с геотэгами маленький (примерно 1 твит на 50), поэтому карта не очень полно выглядит.\n",
    "Необходимо авторизоваться т.к. используются google maps. API key для JS google maps API загружается из файла maps_token.txt"
   ]
  },
  {
   "cell_type": "code",
   "execution_count": 43,
   "metadata": {
    "collapsed": true
   },
   "outputs": [],
   "source": [
    "def get_heatmap(X):\n",
    "    if X.shape[0] != 0:\n",
    "        points = list(Tweets['tgeo'].apply(split_points))\n",
    "\n",
    "        m = gmaps.Map()\n",
    "        m.add_layer(gmaps.Heatmap(data=points))\n",
    "        return m\n",
    "    else:\n",
    "        print 'There is no tweets with geotag!'"
   ]
  },
  {
   "cell_type": "code",
   "execution_count": 44,
   "metadata": {
    "collapsed": false
   },
   "outputs": [],
   "source": [
    "Tweets = pd.read_csv('data/old_tweets/MSU.csv', sep=';', na_values='None').dropna()\n",
    "get_heatmap(Tweets)"
   ]
  },
  {
   "cell_type": "code",
   "execution_count": 45,
   "metadata": {
    "collapsed": false
   },
   "outputs": [],
   "source": [
    "Tweets = pd.read_csv('data/old_tweets/MIPT.csv', sep=';', na_values='None').dropna()\n",
    "get_heatmap(Tweets)"
   ]
  },
  {
   "cell_type": "code",
   "execution_count": 47,
   "metadata": {
    "collapsed": false
   },
   "outputs": [
    {
     "name": "stdout",
     "output_type": "stream",
     "text": [
      "There is no tweets with geotag!\n"
     ]
    }
   ],
   "source": [
    "Tweets = pd.read_csv('data/old_tweets/SPBU.csv', sep=';', na_values='None').dropna()\n",
    "get_heatmap(Tweets)"
   ]
  },
  {
   "cell_type": "code",
   "execution_count": 48,
   "metadata": {
    "collapsed": false
   },
   "outputs": [],
   "source": [
    "Tweets = pd.read_csv('data/old_tweets/ITMO.csv', sep=';', na_values='None').dropna()\n",
    "get_heatmap(Tweets)"
   ]
  }
 ],
 "metadata": {
  "kernelspec": {
   "display_name": "Python 2",
   "language": "python",
   "name": "python2"
  },
  "language_info": {
   "codemirror_mode": {
    "name": "ipython",
    "version": 2
   },
   "file_extension": ".py",
   "mimetype": "text/x-python",
   "name": "python",
   "nbconvert_exporter": "python",
   "pygments_lexer": "ipython2",
   "version": "2.7.12"
  },
  "widgets": {
   "state": {
    "082d4d4b2f5e47249838d8382e3df0cc": {
     "views": []
    },
    "0b48b876cf0d478da2346d348f53bd42": {
     "views": []
    },
    "16019799d0554004b52ee5de9b4f0996": {
     "views": []
    },
    "180f4532ab5348e79804d19e52b8acce": {
     "views": []
    },
    "18de88085d8e42c689cf74507ede6244": {
     "views": []
    },
    "1a07d52df8e0454ea37a39aeb4c79944": {
     "views": []
    },
    "1a440f9c0bd14569a25d76485b824f6e": {
     "views": []
    },
    "1c4f3a9bcc1c4cc690be7a538d106ed5": {
     "views": []
    },
    "1dd8719b77cc4848b7d3817ee59e5940": {
     "views": []
    },
    "1e87d7e69c0f4ded93745ccf64dcb31b": {
     "views": []
    },
    "232ca9f7d4894ab1a57cf6f0b7919dac": {
     "views": []
    },
    "288d022abe4a490c80d5003ffa8de064": {
     "views": [
      {
       "cell_index": 9
      }
     ]
    },
    "2b82cf4d532a4144a8c56a5ae610a88e": {
     "views": []
    },
    "2c5bd6acf85e45d0974c35343fade679": {
     "views": []
    },
    "30b09047d63242d99e1304e9024391a9": {
     "views": []
    },
    "30e39578a97647799b0db1d1fa7b0162": {
     "views": []
    },
    "3a8e05bba63140c282cc9113a45a6b7b": {
     "views": []
    },
    "40c06a76c9bc4d7ca9d0ddd3ef2665ee": {
     "views": []
    },
    "497dec9a6a674857b41dfceb3b5a33d5": {
     "views": []
    },
    "4ab6b730f74c4a699af325f5b575c26e": {
     "views": []
    },
    "5b3dd386491e45ff9123999b36a94c12": {
     "views": []
    },
    "6175c079cae7412d9e1db7da6d335caf": {
     "views": []
    },
    "6453d41a5cda470a9906a1c6b3519d15": {
     "views": []
    },
    "65bed61e85984645aab0c32d67ba4be6": {
     "views": []
    },
    "66426f21d3df4e5a89f6cc481217cf6e": {
     "views": []
    },
    "68545987a1834f4db6ca58bc598296f5": {
     "views": []
    },
    "7315fefbbe6e4203a89493c863842c63": {
     "views": []
    },
    "754e7c630b1f4490b0f73766563a513c": {
     "views": []
    },
    "75dcc86a90504e398c54435d620499c6": {
     "views": []
    },
    "7ac8acf4c5944b709549d8668a2adf90": {
     "views": []
    },
    "7e347ac2903d4d1cbe5507d47cb54cff": {
     "views": []
    },
    "80e5e01082714c318bf75ee54f11967a": {
     "views": []
    },
    "9055af566fd34234a098778723caddd3": {
     "views": []
    },
    "97adb4946ca940eeb124e34164054bb2": {
     "views": []
    },
    "9a9b06412db247b2a794c25436ef4755": {
     "views": []
    },
    "a4312d896d7b4eb0b92dd06011c3d641": {
     "views": []
    },
    "a5a6f29cf77e4aecacb34b54202f8d6d": {
     "views": []
    },
    "a87d14ae2f0945dbabdd339ac3f8ab99": {
     "views": []
    },
    "aa2a051db68944c3a357959d23b15899": {
     "views": [
      {
       "cell_index": 12
      }
     ]
    },
    "ae2ea39167a44d8983efeccb0f6b440f": {
     "views": []
    },
    "ba14447249d24f798d9fd74c638fc25a": {
     "views": []
    },
    "bee7429cc61f49b599e66bb6d64d1a4b": {
     "views": []
    },
    "c0d05a8831b04ff9a8519f551433bb6b": {
     "views": []
    },
    "c45b012de2c8446db7e34e0cc1a08d0b": {
     "views": []
    },
    "c8200a723af045a3940263cadbc75530": {
     "views": []
    },
    "ccbee7366c77492eac9617a4ef64c585": {
     "views": []
    },
    "d1ead1e4e298437b8d64141c8aacbec2": {
     "views": []
    },
    "d35ead01d481483dba7612b06e85ea04": {
     "views": []
    },
    "d9b1a53703b34125a07e7384efd5b5e5": {
     "views": []
    },
    "dc4eedca67a14b7cbb70c6bcc45b240c": {
     "views": []
    },
    "de873cb2b72a479aa591aa72f36439db": {
     "views": []
    },
    "e1d3c554308e46a2924cdadffb85d9f7": {
     "views": []
    },
    "e2a97303f414423bb9ff07b354ce3804": {
     "views": []
    },
    "ecd419de86c840fb9c0ff9d9bc7e0867": {
     "views": []
    },
    "ee0cd5a2115c4f19816e6f6289d49fc8": {
     "views": []
    },
    "f23d205b25c942c39df580e2cb876197": {
     "views": []
    },
    "f3cc92e1a4e84c44941461065e7682d5": {
     "views": [
      {
       "cell_index": 10
      }
     ]
    },
    "f79a8aa4edc64795af817097c18935d3": {
     "views": []
    }
   },
   "version": "1.1.2"
  }
 },
 "nbformat": 4,
 "nbformat_minor": 0
}
